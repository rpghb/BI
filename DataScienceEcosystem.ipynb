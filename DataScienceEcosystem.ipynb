{
 "cells": [
  {
   "cell_type": "markdown",
   "id": "20fcb74e",
   "metadata": {},
   "source": [
    "# Data Science Tools and Ecosystem"
   ]
  },
  {
   "cell_type": "markdown",
   "id": "4b4de3a9",
   "metadata": {},
   "source": [
    "In this notebook, Data Science Tools and Ecosystem are summarized."
   ]
  },
  {
   "cell_type": "markdown",
   "id": "3f26e2ca",
   "metadata": {},
   "source": [
    "**Objectives:**\n",
    "- List popular languages for Data Science\n",
    "- List common libraries for Data Science\n",
    "- List popular open source tools for data science\n",
    "- Show sample arithmetic expressions evaluation"
   ]
  },
  {
   "cell_type": "markdown",
   "id": "2ce70362",
   "metadata": {},
   "source": [
    "Some of the popular languages that Data Scientists use are:\n",
    "\n",
    "    1. Python\n",
    "    2. R\n",
    "    3. SQL\n",
    "    4. Julia\n",
    "    5. Scala"
   ]
  },
  {
   "cell_type": "markdown",
   "id": "5871a3c9",
   "metadata": {},
   "source": [
    "Some of the commonly used libraries used by Data Scientists include:\n",
    "\n",
    "1. Numpy\n",
    "2. Pandas\n",
    "3. Matplotlib\n",
    "4. TensorFlow\n",
    "5. Ggplot2\n",
    " "
   ]
  },
  {
   "cell_type": "code",
   "execution_count": 13,
   "id": "4c6c6c9c",
   "metadata": {},
   "outputs": [
    {
     "data": {
      "text/html": [
       "<style>\n",
       "    .rendered_html table,\n",
       "    table {\n",
       "        margin-left: 0\n",
       "    }\n",
       "</style>\n"
      ],
      "text/plain": [
       "<IPython.core.display.HTML object>"
      ]
     },
     "metadata": {},
     "output_type": "display_data"
    }
   ],
   "source": [
    "%%html\n",
    "<style>\n",
    "    .rendered_html table,\n",
    "    table {\n",
    "        margin-left: 0\n",
    "    }\n",
    "</style>"
   ]
  },
  {
   "cell_type": "markdown",
   "id": "4c69a156",
   "metadata": {},
   "source": [
    "Following are some of the open source tools (development environment) used in data science.\n",
    "\n",
    "|Data Science Tools |\n",
    "|--------------------|\n",
    "|Jupyter|\n",
    "|RStudio|\n",
    "|Apache Zeppelin|\n",
    "|Spyder|\n",
    "|KNIME|\n"
   ]
  },
  {
   "cell_type": "markdown",
   "id": "dc2feb1c",
   "metadata": {},
   "source": [
    "### Below are a few examples of evaluating arithmetic expressions in Python."
   ]
  },
  {
   "cell_type": "code",
   "execution_count": 20,
   "id": "2e1ed091",
   "metadata": {},
   "outputs": [
    {
     "data": {
      "text/plain": [
       "17"
      ]
     },
     "execution_count": 20,
     "metadata": {},
     "output_type": "execute_result"
    }
   ],
   "source": [
    "# This a simple arithmetic expression to mutiply then add integers\n",
    "\n",
    "(3*4)+5"
   ]
  },
  {
   "cell_type": "code",
   "execution_count": 19,
   "id": "acf9000a",
   "metadata": {},
   "outputs": [
    {
     "data": {
      "text/plain": [
       "3.3333333333333335"
      ]
     },
     "execution_count": 19,
     "metadata": {},
     "output_type": "execute_result"
    }
   ],
   "source": [
    "# This will convert 200 minutes to hours by diving by 60\n",
    "\n",
    "200/60"
   ]
  },
  {
   "cell_type": "markdown",
   "id": "27e4ffb4",
   "metadata": {},
   "source": [
    "## Author\n",
    "Rajeswari Praturi"
   ]
  },
  {
   "cell_type": "code",
   "execution_count": null,
   "id": "15c42ca0",
   "metadata": {},
   "outputs": [],
   "source": []
  }
 ],
 "metadata": {
  "kernelspec": {
   "display_name": "Python 3 (ipykernel)",
   "language": "python",
   "name": "python3"
  },
  "language_info": {
   "codemirror_mode": {
    "name": "ipython",
    "version": 3
   },
   "file_extension": ".py",
   "mimetype": "text/x-python",
   "name": "python",
   "nbconvert_exporter": "python",
   "pygments_lexer": "ipython3",
   "version": "3.11.5"
  }
 },
 "nbformat": 4,
 "nbformat_minor": 5
}
